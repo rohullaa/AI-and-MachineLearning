{
 "cells": [
  {
   "cell_type": "markdown",
   "metadata": {},
   "source": [
    "# Traveling Salesperson Problem"
   ]
  },
  {
   "cell_type": "markdown",
   "metadata": {},
   "source": [
    "## Introduction\n",
    "In this exercise, we will attempt to solve an instance of the traveling salesman problem (TSP) using different\n",
    "methods. The goal is to become familiar with evolutionary algorithms and to appreciate their effectiveness on a\n",
    "difficult search problem. We concentrate on writing our program from scratch.\n",
    "\n",
    "\n",
    "|  &nbsp;   | Barcelona | Belgrade |  Berlin | Brussels | Bucharest | Budapest |\n",
    "|:---------:|:---------:|:--------:|:-------:|:--------:|:---------:|:--------:|\n",
    "| Barcelona |     0     |  1528.13 | 1497.61 |  1062.89 |  1968.42  |  1498.79 |\n",
    "|  Belgrade |  1528.13  |     0    |  999.25 |  1372.59 |   447.34  |  316.41  |\n",
    "|   Berlin  |  1497.61  |  999.25  |    0    |  651.62  |  1293.40  |  1293.40 |\n",
    "|  Brussels |  1062.89  |  1372.59 |  651.62 |     0    |  1769.69  |  1131.52 |\n",
    "| Bucharest |  1968.42  |  447.34  | 1293.40 |  1769.69 |     0     |  639.77  |\n",
    "|  Budapest |  1498.79  |  316.41  | 1293.40 |  1131.52 |   639.77  |     0    |\n",
    "\n",
    "\n",
    "<center>Figure 1: First 6 cities from csv file.</center>\n"
   ]
  },
  {
   "cell_type": "markdown",
   "metadata": {},
   "source": [
    "## Problem\n",
    "The traveling salesperson, wishing to disturb the residents of the major cities in some region of the world in\n",
    "the shortest time possible, is faced with the problem of finding the shortest tour among the cities. A tour\n",
    "is a path that starts in one city, visits all of the other cities, and then returns to the starting point. The\n",
    "relevant pieces of information, then, are the cities and the distances between them. In this instance of the\n",
    "TSP, a number of European cities are to be visited. Their relative distances are given in the data file, *european_cities.csv*, found in the zip file with the mandatory assignment."
   ]
  },
  {
   "cell_type": "markdown",
   "metadata": {},
   "source": [
    "## Exhaustive Search\n",
    "Firstly, we will try to solve the problem by inspecting every possible tour. Start by writing a program to find the shortest\n",
    "tour among a subset of the cities (say, **6** of them). Measure the amount of time your program takes. Incrementally\n",
    "add more cities and observe how the time increases."
   ]
  },
  {
   "cell_type": "code",
   "execution_count": 2,
   "metadata": {},
   "outputs": [],
   "source": [
    "import numpy as np\n",
    "import matplotlib.pyplot as plt\n",
    "import pandas as pd\n",
    "import itertools as it\n",
    "import random as rd\n",
    "import time\n",
    "import csv"
   ]
  },
  {
   "cell_type": "code",
   "execution_count": 11,
   "metadata": {},
   "outputs": [],
   "source": [
    "data = pd.read_csv(\"european_cities.csv\",sep=';').values.tolist()\n",
    "\n",
    "def totalDistance(cityData,solution):\n",
    "    #finds the totaldistance for a given solution.\n",
    "    distance = 0\n",
    "    for i in range(len(solution)):\n",
    "        distance += cityData[solution[i-1]][solution[i]]\n",
    "    return distance\n",
    "\n",
    "def shortestPath(cityData,cityNum):\n",
    "    bestDistance = 100000000\n",
    "    bestSequence = None\n",
    "    #using itertool to make permutations\n",
    "    for perm in it.permutations(cityNum):\n",
    "        #calculating the totalDistance for each permutations\n",
    "        currentDistance = totalDistance(cityData,perm)\n",
    "        #checking if the currentDistance is better than best, if thats\n",
    "        #the case then it changes\n",
    "        if currentDistance < bestDistance:\n",
    "            bestDistance = currentDistance\n",
    "            bestSequence = perm\n",
    "    return bestDistance,perm\n",
    "    "
   ]
  },
  {
   "cell_type": "markdown",
   "metadata": {},
   "source": [
    "The shortest tour (i.e., the actual sequence of cities, and its length) among the first 10 cities (that is,\n",
    "the cities starting with B,C,D,H and I) is computed below."
   ]
  },
  {
   "cell_type": "code",
   "execution_count": 12,
   "metadata": {},
   "outputs": [
    {
     "name": "stdout",
     "output_type": "stream",
     "text": [
      "Best solution: 7486.310\n",
      "The actual sequence of the citites: (9, 8, 7, 6, 5, 4, 3, 2, 1, 0)\n",
      "Best time: 5.92 s\n"
     ]
    }
   ],
   "source": [
    "cityNum = range(10)\n",
    "t1 = time.time()\n",
    "best_distance,best_sequece = shortestPath(data,cityNum)\n",
    "t2 = time.time()\n",
    "finalTime = t2-t1\n",
    "print(f\"Best solution: {best_distance:.3f}\")\n",
    "print(f\"The actual sequence of the citites: {best_sequece}\")\n",
    "print(f\"Best time: {finalTime:.2f} s\") \n",
    "      "
   ]
  },
  {
   "cell_type": "markdown",
   "metadata": {},
   "source": [
    "By looking at the function above, we can estimate the Big-O notation.\n",
    "In this case we have that the first loop does N! primitive steps and the second loop runs N times. This gives us that O-notation is $N! \\cdot N$ for this function. We can use this to estimate the time for 24 cities.\n",
    "When I run this algorithm on my Mac, I get around 6 seconds for N = 10.\n",
    "So it gives: $\\frac{6.00}{10*10!}$= $1.6710^{-07}$ second/steps.\n",
    "By multiplying it with N!* N = 24! * 24 will gives the estimate for time the program will take to run:\n",
    "$$\\frac{6.00}{10*10!} * 24!*24 =2482614305877049344 = 2.48 \\cdot 10^{19}$$ years."
   ]
  },
  {
   "cell_type": "markdown",
   "metadata": {},
   "source": [
    "## Hill Climbing\n",
    "We will try to solve the TSP by Hill Climbing algorithm."
   ]
  },
  {
   "cell_type": "code",
   "execution_count": 47,
   "metadata": {},
   "outputs": [],
   "source": [
    "def randomSolution(cityData):\n",
    "    #this function selects a random city \n",
    "    cities = list(range(len(cityData)))\n",
    "    solution = []\n",
    "    \n",
    "    for i in range(len(cityData)):\n",
    "        #selecting a city randomly using randint\n",
    "        #adding it in the list of solution\n",
    "        #making sure to not select it again by removing it from cities \n",
    "        randomCity = cities[rd.randint(0,len(cities)-1)]\n",
    "        solution.append(randomCity)\n",
    "        cities.remove(randomCity)\n",
    "        \n",
    "    return solution\n",
    "\n",
    "def getNeighbors(solution):\n",
    "    #this function returns all neighbors of the given solution\n",
    "    #by recombination/swaping elements of the solution listl\n",
    "    AllNeighbors = []\n",
    "    for i in range(len(solution)):\n",
    "        for j in range(i+1,len(solution)):\n",
    "            neighbor = solution.copy()\n",
    "            neighbor[i] = solution[j]\n",
    "            neighbor[j] = solution[i]\n",
    "            AllNeighbors.append(neighbor)\n",
    "    return AllNeighbors\n",
    "\n",
    "\n",
    "def getBestNeighbor(cityData,AllNeighbors):\n",
    "    #initialising the current best distances and neighbors\n",
    "    #this function finds the best neighbor (meaning neighbor with shortest distance)\n",
    "    #by searching all of the neighbors\n",
    "    bestDistance = totalDistance(cityData, AllNeighbors[0])\n",
    "    bestNeighbor = AllNeighbors[0]\n",
    "    for neighbor in AllNeighbors:\n",
    "        currentDistance = totalDistance(cityData,neighbor)\n",
    "        #checks if the currentDistance is better than the best, if so\n",
    "        #it changes the best \n",
    "        if currentDistance < bestDistance:\n",
    "            bestDistance = currentDistance\n",
    "            bestNeighbor = neighbor\n",
    "    return bestNeighbor,bestDistance\n",
    "    \n",
    "    \n",
    "def hillClimbing(cityData):\n",
    "    #calling on the functions above to get the variables\n",
    "    currentSolution = randomSolution(cityData)\n",
    "    currentDistance = totalDistance(cityData,currentSolution)\n",
    "    AllNeighbors = getNeighbors(currentSolution)\n",
    "    bestNeighbor,bestDistance = getBestNeighbor(cityData,AllNeighbors)\n",
    "    #checks if the currentDistance is better than the best, if so\n",
    "    #it changes the best \n",
    "    while bestDistance < currentDistance:\n",
    "        currentSolution = bestNeighbor\n",
    "        currentDistance = bestDistance\n",
    "        AllNeighbors = getNeighbors(currentSolution)\n",
    "        bestNeighbor,bestDistance = getBestNeighbor(cityData,AllNeighbors)\n",
    "\n",
    "    return currentSolution,currentDistance\n",
    "    "
   ]
  },
  {
   "cell_type": "markdown",
   "metadata": {},
   "source": [
    "The hill climber performed very well compared to exhaustive search. We got almost the same distance. Hill climbing is a stochastic algorithm, so we had to run the algorithm several times to measure its performance. Although we ended up with the same result for the distance, but the sequel of the cities differs from the exhaustive search."
   ]
  },
  {
   "cell_type": "code",
   "execution_count": 48,
   "metadata": {
    "scrolled": true
   },
   "outputs": [
    {
     "name": "stdout",
     "output_type": "stream",
     "text": [
      "Hill climbing: 20 runs of the first ten cities\n",
      "Best length of the tour: 7486.310\n",
      "Worst length of the tour: 7737.950\n",
      "Mean length of the tour: 7564.320\n",
      "Standard deviation of the runs: 113.813\n",
      "___________________________________________\n",
      "Hill climbing: 20 runs of the all cities\n",
      "Best length of the tour: 12504.080\n",
      "Worst length of the tour: 15528.340\n",
      "Mean length of the tour: 14368.179\n",
      "Standard deviation of the runs: 855.119\n",
      "___________________________________________\n"
     ]
    }
   ],
   "source": [
    "amountRuns = 20\n",
    "listFirstTen = []\n",
    "listAllCities = []\n",
    "for i in range(amountRuns):\n",
    "    distanceForTen = hillClimbing(data[0:10])[1]\n",
    "    listFirstTen.append(distanceForTen)\n",
    "    \n",
    "    distanceAll = hillClimbing(data)[1]\n",
    "    listAllCities.append(distanceAll)\n",
    "\n",
    "def printing(string,liste):\n",
    "    print(f\"Hill climbing: 20 runs of the {string}\")\n",
    "    print(f\"Best length of the tour: {min(liste):.3f}\")\n",
    "    print(f\"Worst length of the tour: {max(liste):.3f}\")\n",
    "    print(f\"Mean length of the tour: {np.mean(liste):.3f}\")\n",
    "    print(f\"Standard deviation of the runs: {np.std(liste):.3f}\")\n",
    "    print(\"___________________________________________\")\n",
    "\n",
    "printing(\"first ten cities\",listFirstTen)\n",
    "printing(\"all cities\",listAllCities)"
   ]
  },
  {
   "cell_type": "markdown",
   "metadata": {},
   "source": [
    "## Genetic Algorithm\n",
    "Solving the TSP problem by Genetic algorithm. We choose a mutation and crossover operators that are appropriate for the problem. "
   ]
  },
  {
   "cell_type": "markdown",
   "metadata": {},
   "source": [
    "### The procedure goes as following:\n",
    "* Initializing and randomly choosing a population while calculating the distance and fitness\n",
    "* Selection parents: selecting parents with a probabilty proportinal to their fitness scores\n",
    "* Crossover: generating new children from the parents\n",
    "* Mutation: mutates the new children\n",
    "* Selection: sorting and selecting those with highest fitness\n",
    "* Evaluation: checking if it has been found a solution better than the previous one. If so, the programe terminates, otherwise it starts from the selecting new parents."
   ]
  },
  {
   "cell_type": "code",
   "execution_count": 4,
   "metadata": {},
   "outputs": [],
   "source": [
    "def calulateDistance(data,combination):\n",
    "    #calculates the distance btween cities and stores it\n",
    "    finalDistance = 0\n",
    "    for i in range(len(combination) - 1):\n",
    "        fromCity = data[0].index(combination[i])\n",
    "        toCity = data[0].index(combination[i + 1])\n",
    "        distances = data[1:]\n",
    "        distance = float(distances[fromCity][toCity])\n",
    "        finalDistance += distance\n",
    "\n",
    "    lastCity = data[0].index(combination[-1])\n",
    "    firstCity = data[0].index(combination[0])\n",
    "    lastDistance = float(data[1:][lastCity][firstCity])\n",
    "    finalDistance += lastDistance\n",
    "    return finalDistance\n",
    "\n",
    "\n",
    "def calculateFitness(fitnessOfTour,population,distanceOfTour):\n",
    "    #calculates fitness and stores it\n",
    "    for i in range(len(population)):\n",
    "        fitness = np.sum(distanceOfTour)/distanceOfTour[i]\n",
    "        fitnessOfTour.append(fitness)\n",
    "    return fitnessOfTour\n",
    "\n",
    "def makeAPopulation(data,tourOfCities,populationSize):\n",
    "    #creating a population by using the random.shuffle()\n",
    "    distanceOfTour = []\n",
    "    population = []\n",
    "    fitnessOfTour = []\n",
    "    for i in range(populationSize):\n",
    "        tour = tourOfCities.copy()\n",
    "        rd.shuffle(tour)\n",
    "\n",
    "        population.append(tour)\n",
    "        distanceOfTour.append(calulateDistance(data,tour))\n",
    "\n",
    "    fitnessOfTour = calculateFitness(fitnessOfTour,population,distanceOfTour)\n",
    "\n",
    "    return population,distanceOfTour,fitnessOfTour"
   ]
  },
  {
   "cell_type": "code",
   "execution_count": 17,
   "metadata": {},
   "outputs": [],
   "source": [
    "#Selection of parents\n",
    "def parentSelection(population, fitnessOfTour):\n",
    "    #defining the selectedParent as None\n",
    "    selectedParent = None\n",
    "    indeks = rd.randint(0, len(population) - 1)\n",
    "    sumFitness = np.sum(fitnessOfTour)\n",
    "\n",
    "    #loops until we find a parent\n",
    "    while selectedParent == None:\n",
    "        if indeks == len(population):\n",
    "            indeks = 0\n",
    "        #selecting the parent with highest fitness\n",
    "        probability = fitnessOfTour[indeks]/sumFitness\n",
    "        if probability > rd.uniform(0,1):\n",
    "            selectedParent = population[indeks]\n",
    "        indeks += 1\n",
    "\n",
    "    return selectedParent\n",
    "\n",
    "#Selection of the survivor:\n",
    "def survivorSelection(population, populationSize, fitnessOfTour,distanceOfTour):\n",
    "    fullPopulation = []\n",
    "    #adding up population,fitness and distance in one list in order to make it easier for sorting\n",
    "    for i in range(len(population)):\n",
    "        fullPopulation.append([population[i],distanceOfTour[i],fitnessOfTour[i]])\n",
    "    #sorting and revoming those with the worst fitness\n",
    "    fullPopulation.sort(key=lambda x: x[2], reverse=True)\n",
    "    while len(fullPopulation) > populationSize:\n",
    "        fullPopulation.pop()\n",
    "\n",
    "    population = [row[0] for row in fullPopulation]\n",
    "    distanceOfTour = [row[1] for row in fullPopulation]\n",
    "    fitnessOfTour = [row[2] for row in fullPopulation]\n",
    "\n",
    "    return population,distanceOfTour,fitnessOfTour\n",
    "\n",
    "#partially-mapped crossover \n",
    "def pmx(a, b, start, stop):\n",
    "    child = [None]*len(a)\n",
    "    child[start:stop] = a[start:stop]\n",
    "    for ind, x in enumerate(b[start:stop]):\n",
    "        ind += start\n",
    "        if x not in child:\n",
    "            while child[ind] != None:\n",
    "                ind = b.index(a[ind])\n",
    "            child[ind] = x\n",
    "    for ind, x in enumerate(child):\n",
    "        if x == None:\n",
    "            child[ind] = b[ind]\n",
    "\n",
    "    return child\n",
    "\n",
    "def pmxPair(a,b):\n",
    "    half = len(a) // 2\n",
    "    start = np.random.randint(0, len(a)-half)\n",
    "    stop = start+half\n",
    "    return pmx(a, b, start, stop), pmx(b, a, start, stop)\n",
    "\n",
    "#mutation\n",
    "def swapMutation(child):\n",
    "    cities = np.random.choice(len(child), 2, replace=False)\n",
    "    child[cities[0]], child[cities[1]] = child[cities[1]], child[cities[0]]\n",
    "    return child\n",
    "\n",
    "\n",
    "#this funciton generate parents and childs by mutation and crossover\n",
    "def nextGeneration(population,fitnessOfTour,data,distanceOfTour):\n",
    "    populationSize = len(population)\n",
    "    listOffspring = []\n",
    "    distOffspring = []\n",
    "    fitOffspring = []\n",
    "\n",
    "    for i in range(len(population)//2):\n",
    "        #calling on and creating parents\n",
    "        parent1 = parentSelection(population, fitnessOfTour)\n",
    "        parent2 = parentSelection(population, fitnessOfTour)\n",
    "\n",
    "        #mutation and crossover\n",
    "        child1, child2 = pmxPair(parent1,parent2)\n",
    "        child1 = swapMutation(child1)\n",
    "        child2 = swapMutation(child2)\n",
    "        \n",
    "        #adding the children into the lists of offspring\n",
    "        listOffspring.append(child1)\n",
    "        distOffspring.append(calulateDistance(data,child1))\n",
    "        fitOffspring.append(0)\n",
    "\n",
    "        listOffspring.append(child2)\n",
    "        distOffspring.append(calulateDistance(data,child2))\n",
    "        fitOffspring.append(0)\n",
    "\n",
    "    for i in range(len(listOffspring)):\n",
    "        fitOffspring[i] = np.sum(distOffspring)/distOffspring[i]\n",
    "    \n",
    "    #adding offspring to the population\n",
    "    population = population + listOffspring\n",
    "    distanceOfTour = distanceOfTour + distOffspring\n",
    "    fitnessOfTour = fitnessOfTour + fitOffspring\n",
    "\n",
    "    return survivorSelection(population, populationSize, fitnessOfTour,distanceOfTour)\n",
    "\n",
    "\n",
    "def evaluation(population,fitnessOfTour,data,distanceOfTour):\n",
    "    bestDist = distanceOfTour\n",
    "    bestRout = population\n",
    "    bestFitness = fitnessOfTour\n",
    "    \n",
    "    generation = 0\n",
    "    counter = 0\n",
    "\n",
    "    #using while loop to find the best solution by running it many times, if it runs without\n",
    "    #improving the programe will terminate\n",
    "    while counter < 100:\n",
    "        population,distanceOfTour,fitnessOfTour = nextGeneration(population,fitnessOfTour,data,distanceOfTour)\n",
    "        generation += 1\n",
    "        \n",
    "        if distanceOfTour[0] < bestDist[0]:\n",
    "            bestDist = distanceOfTour\n",
    "            bestRout = population\n",
    "            bestFitness = fitnessOfTour\n",
    "            counter = 0\n",
    "        else:\n",
    "            counter += 1\n",
    "    return bestRout,bestDist,bestFitness,generation\n"
   ]
  },
  {
   "cell_type": "code",
   "execution_count": 16,
   "metadata": {},
   "outputs": [
    {
     "name": "stdout",
     "output_type": "stream",
     "text": [
      "GA for 10 cities with populationSize =20:\n",
      "Shortest distance: 7486.310\n",
      "Mean distance: 7937.769\n",
      "Standard deviation: 356.960\n",
      "Worst distance: 8744.900\n",
      "Time: 3.523 s\n",
      "___________________________________________\n",
      "GA for 10 cities with populationSize =40:\n",
      "Shortest distance: 7486.310\n",
      "Mean distance: 7730.195\n",
      "Standard deviation: 226.066\n",
      "Worst distance: 8309.610\n",
      "Time: 7.074 s\n",
      "___________________________________________\n",
      "GA for 10 cities with populationSize =80:\n",
      "Shortest distance: 7486.310\n",
      "Mean distance: 7729.057\n",
      "Standard deviation: 162.081\n",
      "Worst distance: 8003.960\n",
      "Time: 18.898 s\n",
      "___________________________________________\n"
     ]
    },
    {
     "data": {
      "image/png": "[encoded data removed]",
      "text/plain": [
       "<Figure size 432x288 with 1 Axes>"
      ]
     },
     "metadata": {
      "needs_background": "light"
     },
     "output_type": "display_data"
    },
    {
     "name": "stdout",
     "output_type": "stream",
     "text": [
      "GA for 24 cities with populationSize =20:\n",
      "Shortest distance: 15792.350\n",
      "Mean distance: 17798.408\n",
      "Standard deviation: 1354.247\n",
      "Worst distance: 20856.140\n",
      "Time: 5.777 s\n",
      "___________________________________________\n",
      "GA for 24 cities with populationSize =40:\n",
      "Shortest distance: 13324.900\n",
      "Mean distance: 16380.903\n",
      "Standard deviation: 2100.358\n",
      "Worst distance: 22381.750\n",
      "Time: 15.641 s\n",
      "___________________________________________\n",
      "GA for 24 cities with populationSize =80:\n",
      "Shortest distance: 13339.810\n",
      "Mean distance: 15988.198\n",
      "Standard deviation: 1767.268\n",
      "Worst distance: 19201.320\n",
      "Time: 36.208 s\n",
      "___________________________________________\n"
     ]
    },
    {
     "data": {
      "image/png": "[encoded data removed]",
      "text/plain": [
       "<Figure size 432x288 with 1 Axes>"
      ]
     },
     "metadata": {
      "needs_background": "light"
     },
     "output_type": "display_data"
    }
   ],
   "source": [
    "def runningGA(populationSize,numberOfCities,data):\n",
    "    t1 = time.time()\n",
    "    tourOfCities = data[0][:numberOfCities]\n",
    "    population,distanceOfTour,fitnessOfTour = makeAPopulation(data,tourOfCities,populationSize)\n",
    "\n",
    "    bestSolution = []\n",
    "    runs = []\n",
    "    for i in range(20):\n",
    "        bestRout,bestDist,bestFitness,generation = evaluation(population,fitnessOfTour,data,distanceOfTour)     \n",
    "        bestSolution.append([bestRout[0],bestDist[0],bestFitness[0]])\n",
    "        runs.append(generation)\n",
    "    \n",
    "    t2 = time.time()\n",
    "    \n",
    "    bestSolution.sort(key=lambda x: x[1], reverse=False)\n",
    "    avrageFitness = [x[2] for x in bestSolution]\n",
    "    gen = np.linspace(0,max(runs),20)\n",
    "    plt.plot(gen,avrageFitness,label = f\"popSize = {populationSize}\")\n",
    "    \n",
    "    print(f'GA for {numberOfCities} cities with populationSize ={populationSize}:')\n",
    "    print(f'Shortest distance: {bestSolution[0][1]:.3f}')\n",
    "    print(f'Mean distance: {np.mean([x[1] for x in bestSolution]):.3f}')\n",
    "    print(f'Standard deviation: {np.std([x[1] for x in bestSolution]):.3f}')\n",
    "    print(f'Worst distance: {bestSolution[-1][1]:.3f}')\n",
    "    finalTime = t2-t1\n",
    "    print(f\"Time: {finalTime:.3f} s\")\n",
    "    print(\"___________________________________________\")\n",
    "\n",
    "def printing(popSizes,numCities):\n",
    "    data = list(csv.reader(open(\"european_cities.csv\", \"r\"), delimiter=\";\"))\n",
    "    for p in popSizes:\n",
    "        runningGA(p,numCities,data)\n",
    "\n",
    "    plt.suptitle(f\"{numCities} cities\")\n",
    "    plt.xlabel(\"Generations\")\n",
    "    plt.ylabel(\"Avrage fitness\")\n",
    "    plt.legend()\n",
    "    plt.show()\n",
    "\n",
    "printing([20,40,80],10)\n",
    "printing([20,40,80],24)\n"
   ]
  },
  {
   "cell_type": "markdown",
   "metadata": {},
   "source": [
    "### The plots\n",
    "The plot above is showing the avrage fitness per generations. As it can be seen, the different graphs shows fitness for the given population sizes which are 20,40 and 80. Generally, the avrage fitness increase with the population size. In the plot of the ten first cities, we can see that the avrage fitness is quite stable at population size 20. In addition to this, we can also see that the standard deviation drops from 356.960 to 226.066 by changing the population size, and further decreases to 162.081 at population size 80. This clearly tells us that the best choice of population size is around 80 and it is the most stable one.  \n",
    "\n",
    "The interesting thing is that we get a different situation in the plot for 24 cities. Here we can see that the standard deviation increases with increasing population size from 20 to 40, but it drops again at population size 80. This can again be seen in the plot.\n",
    "Note that for 24 cities, the code struggles to find the very shortest distance between the cities, but it is getting close. Unfortunately, I was unable to fix this issue."
   ]
  },
  {
   "cell_type": "markdown",
   "metadata": {},
   "source": [
    "### Observations\n",
    "\n",
    "We see from above that the shortest length was found to be 7486.310 which is the exactly same length as found with exhaustive search. This solution seems to be solid, since the very same distance was found by all different population sizes. \n",
    "\n",
    "However, the running time for the genetic algorithm is different compared to exhaustive search. We can see that the running time increases with increased population sizes which seems logical. The time for lowest population sizes (20) seems to be a bit faster compared to the exhaustive search, the time we get for 10 cities is around 3.6 seconds and the time for 20 cities is around 5.7 seconds. So the GA is using almost the same to find the shortest distance between all of the cities while the exhaustive search only find for 10 cities. But other than that, the time is greater for the other population sizes and number of cities.\n",
    "\n",
    "We can calculate the amount of tours completed by the genetic algorithm and the exhaustive search by following:\n",
    "\n",
    "$$ GATours = (populationSize)\\cdot(generationCount) \\cdot (runs) $$\n",
    "$$ ExhaustiveTours = (numberOfCities)!$$\n",
    "\n",
    "For the GA, I used population sizes 20, 40, 80 and run the program 20 times. The amount of avrage generation count after this runs was 130. This gives us:\n",
    "\n",
    "$$ GATours = (140)\\cdot(130) \\cdot (20) = 364000$$\n",
    "$$ ExhaustiveTours = (numberOfCities)! = 10! = 3628800$$\n",
    "\n",
    "Note that these numbers are not entirely accurate considering that the program can create duplicate children and parents, but may seem like a good approximation."
   ]
  }
 ],
 "metadata": {
  "kernelspec": {
   "display_name": "Python 3 (ipykernel)",
   "language": "python",
   "name": "python3"
  },
  "language_info": {
   "codemirror_mode": {
    "name": "ipython",
    "version": 3
   },
   "file_extension": ".py",
   "mimetype": "text/x-python",
   "name": "python",
   "nbconvert_exporter": "python",
   "pygments_lexer": "ipython3",
   "version": "3.9.6"
  }
 },
 "nbformat": 4,
 "nbformat_minor": 2
}
